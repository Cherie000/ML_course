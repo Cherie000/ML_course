{
 "cells": [
  {
   "cell_type": "code",
   "execution_count": 1,
   "metadata": {},
   "outputs": [],
   "source": [
    "# Useful starting lines\n",
    "%matplotlib inline\n",
    "import numpy as np\n",
    "import matplotlib.pyplot as plt\n",
    "\n",
    "%load_ext autoreload\n",
    "%autoreload 2\n",
    "from test_utils import test"
   ]
  },
  {
   "cell_type": "markdown",
   "metadata": {},
   "source": [
    "# Cross-Validation and Bias-Variance decomposition\n",
    "## Cross-Validation\n",
    "Implementing 4-fold cross-validation below:"
   ]
  },
  {
   "cell_type": "code",
   "execution_count": 2,
   "metadata": {},
   "outputs": [],
   "source": [
    "from helpers import load_data\n",
    "\n",
    "# load dataset\n",
    "x, y = load_data()"
   ]
  },
  {
   "cell_type": "code",
   "execution_count": 3,
   "metadata": {},
   "outputs": [],
   "source": [
    "def build_k_indices(y, k_fold, seed):\n",
    "    \"\"\"build k indices for k-fold.\n",
    "\n",
    "    Args:\n",
    "        y:      shape=(N,)\n",
    "        k_fold: K in K-fold, i.e. the fold num\n",
    "        seed:   the random seed\n",
    "\n",
    "    Returns:\n",
    "        A 2D array of shape=(k_fold, N/k_fold) that indicates the data indices for each fold\n",
    "\n",
    "    >>> build_k_indices(np.array([1., 2., 3., 4.]), 2, 1)\n",
    "    array([[3, 2],\n",
    "           [0, 1]])\n",
    "    \"\"\"\n",
    "    num_row = y.shape[0]\n",
    "    interval = int(num_row / k_fold)\n",
    "    np.random.seed(seed)\n",
    "    indices = np.random.permutation(num_row)\n",
    "    k_indices = [indices[k * interval : (k + 1) * interval] for k in range(k_fold)]\n",
    "    return np.array(k_indices)"
   ]
  },
  {
   "cell_type": "code",
   "execution_count": 4,
   "metadata": {},
   "outputs": [
    {
     "name": "stdout",
     "output_type": "stream",
     "text": [
      "✅ Your `build_k_indices` passes some basic tests.\n"
     ]
    }
   ],
   "source": [
    "test(build_k_indices)"
   ]
  },
  {
   "cell_type": "markdown",
   "metadata": {},
   "source": [
    "For the following cross_validation( ) function you need to implement, you can help yourselves of the build_poly( ) and ridge_regression( ) functions that you implemented in lab 3. Copy paste the code in the build_polynomial.py and ridge_regression.py files, they should pass the two following tests."
   ]
  },
  {
   "cell_type": "code",
   "execution_count": 5,
   "metadata": {},
   "outputs": [
    {
     "name": "stdout",
     "output_type": "stream",
     "text": [
      "❌ The are some issues with your implementation of `build_poly`:\n",
      "**********************************************************************\n",
      "File \"/Users/cherie/Desktop/ML_course/labs/ex04/template/build_polynomial.py\", line 17, in build_poly\n",
      "Failed example:\n",
      "    build_poly(np.array([0.0, 1.5]), 2)\n",
      "Exception raised:\n",
      "    Traceback (most recent call last):\n",
      "      File \"/opt/anaconda3/lib/python3.12/doctest.py\", line 1368, in __run\n",
      "        exec(compile(example.source, filename, \"single\",\n",
      "      File \"<doctest build_poly[0]>\", line 1, in <module>\n",
      "        build_poly(np.array([0.0, 1.5]), 2)\n",
      "      File \"/Users/cherie/Desktop/ML_course/labs/ex04/template/build_polynomial.py\", line 27, in build_poly\n",
      "        raise NotImplementedError\n",
      "    NotImplementedError\n",
      "**********************************************************************\n",
      "❌ The are some issues with your implementation of `ridge_regression`:\n",
      "**********************************************************************\n",
      "File \"/Users/cherie/Desktop/ML_course/labs/ex04/template/ridge_regression.py\", line 21, in ridge_regression\n",
      "Failed example:\n",
      "    ridge_regression(np.array([0.1,0.2]), np.array([[2.3, 3.2], [1., 0.1]]), 0)\n",
      "Exception raised:\n",
      "    Traceback (most recent call last):\n",
      "      File \"/opt/anaconda3/lib/python3.12/doctest.py\", line 1368, in __run\n",
      "        exec(compile(example.source, filename, \"single\",\n",
      "      File \"<doctest ridge_regression[0]>\", line 1, in <module>\n",
      "        ridge_regression(np.array([0.1,0.2]), np.array([[2.3, 3.2], [1., 0.1]]), 0)\n",
      "      File \"/Users/cherie/Desktop/ML_course/labs/ex04/template/ridge_regression.py\", line 30, in ridge_regression\n",
      "        raise NotImplementedError\n",
      "    NotImplementedError\n",
      "**********************************************************************\n",
      "File \"/Users/cherie/Desktop/ML_course/labs/ex04/template/ridge_regression.py\", line 23, in ridge_regression\n",
      "Failed example:\n",
      "    ridge_regression(np.array([0.1,0.2]), np.array([[2.3, 3.2], [1., 0.1]]), 1)\n",
      "Exception raised:\n",
      "    Traceback (most recent call last):\n",
      "      File \"/opt/anaconda3/lib/python3.12/doctest.py\", line 1368, in __run\n",
      "        exec(compile(example.source, filename, \"single\",\n",
      "      File \"<doctest ridge_regression[1]>\", line 1, in <module>\n",
      "        ridge_regression(np.array([0.1,0.2]), np.array([[2.3, 3.2], [1., 0.1]]), 1)\n",
      "      File \"/Users/cherie/Desktop/ML_course/labs/ex04/template/ridge_regression.py\", line 30, in ridge_regression\n",
      "        raise NotImplementedError\n",
      "    NotImplementedError\n",
      "**********************************************************************\n"
     ]
    }
   ],
   "source": [
    "from costs import compute_mse\n",
    "from ridge_regression import ridge_regression\n",
    "from build_polynomial import build_poly\n",
    "\n",
    "\n",
    "test(build_poly)\n",
    "test(ridge_regression)"
   ]
  },
  {
   "cell_type": "code",
   "execution_count": 6,
   "metadata": {},
   "outputs": [],
   "source": [
    "def compute_loss(y, tx, w, type='mse'):\n",
    "    \"\"\"Calculate the loss using either MSE or MAE.\n",
    "\n",
    "    Args:\n",
    "        y: numpy array of shape=(N, )\n",
    "        tx: numpy array of shape=(N,2)\n",
    "        w: numpy array of shape=(2,). The vector of model parameters.\n",
    "\n",
    "    Returns:\n",
    "        the value of the loss (a scalar), corresponding to the input parameters w.\n",
    "    \"\"\"\n",
    "    if type == 'mse':\n",
    "        error_term = y - tx @ w\n",
    "        divide_term = 1 / (2 * len(y))\n",
    "\n",
    "        return divide_term * np.dot(error_term, error_term)\n",
    "    else:\n",
    "        divide_term = 1 / (len(y))\n",
    "        return divide_term * np.sum(np.abs(y - tx @ w))"
   ]
  },
  {
   "cell_type": "code",
   "execution_count": 7,
   "metadata": {},
   "outputs": [],
   "source": [
    "def cross_validation(y, x, k_indices, k, lambda_, degree):\n",
    "    \"\"\"return the loss of ridge regression for a fold corresponding to k_indices\n",
    "\n",
    "    Args:\n",
    "        y:          shape=(N,)\n",
    "        x:          shape=(N,)\n",
    "        k_indices:  2D array returned by build_k_indices()\n",
    "        k:          scalar, the k-th fold (N.B.: not to confused with k_fold which is the fold nums)\n",
    "        lambda_:    scalar, cf. ridge_regression()\n",
    "        degree:     scalar, cf. build_poly()\n",
    "\n",
    "    Returns:\n",
    "        train and test root mean square errors rmse = sqrt(2 mse)\n",
    "\n",
    "    >>> cross_validation(np.array([1.,2.,3.,4.]), np.array([6.,7.,8.,9.]), np.array([[3,2], [0,1]]), 1, 2, 3)\n",
    "    (0.019866645527597114, 0.33555914361295175)\n",
    "    \"\"\"\n",
    " # Get k-th subgroup in test, the others in train\n",
    "    test_indices = k_indices[k]\n",
    "    train_indices = np.delete(k_indices, k, axis=0).flatten()\n",
    "    \n",
    "    x_train = x[train_indices]\n",
    "    y_train = y[train_indices]\n",
    "    x_test = x[test_indices]\n",
    "    y_test = y[test_indices]\n",
    "    \n",
    "    # Form data with polynomial degree\n",
    "    tx_train = build_poly(x_train, degree)\n",
    "    tx_test = build_poly(x_test, degree)\n",
    "    \n",
    "    # Ridge regression\n",
    "    weights = ridge_regression(y_train, tx_train, lambda_)\n",
    "    \n",
    "    # Calculate the loss for train and test data\n",
    "    y_train_pred = np.dot(tx_train, weights.T)\n",
    "    y_test_pred = np.dot(tx_test, weights.T)\n",
    "    \n",
    "    rmse_train = np.sqrt(2 * compute_loss(y_train, y_train_pred, weights , mse))\n",
    "    rmse_test = np.sqrt(2 * compute_loss(y_test, y_test_pred, weights, mse))\n",
    "    \n",
    "    return rmse_train, rmse_test"
   ]
  },
  {
   "cell_type": "code",
   "execution_count": 8,
   "metadata": {},
   "outputs": [
    {
     "name": "stdout",
     "output_type": "stream",
     "text": [
      "❌ The are some issues with your implementation of `cross_validation`:\n",
      "**********************************************************************\n",
      "File \"__main__\", line 15, in cross_validation\n",
      "Failed example:\n",
      "    cross_validation(np.array([1.,2.,3.,4.]), np.array([6.,7.,8.,9.]), np.array([[3,2], [0,1]]), 1, 2, 3)\n",
      "Exception raised:\n",
      "    Traceback (most recent call last):\n",
      "      File \"/opt/anaconda3/lib/python3.12/doctest.py\", line 1368, in __run\n",
      "        exec(compile(example.source, filename, \"single\",\n",
      "      File \"<doctest cross_validation[0]>\", line 1, in <module>\n",
      "        cross_validation(np.array([1.,2.,3.,4.]), np.array([6.,7.,8.,9.]), np.array([[3,2], [0,1]]), 1, 2, 3)\n",
      "      File \"/var/folders/0m/t98q9lwj7r59mrxwrbcg977h0000gn/T/ipykernel_74762/1708367960.py\", line 28, in cross_validation\n",
      "        tx_train = build_poly(x_train, degree)\n",
      "                   ^^^^^^^^^^^^^^^^^^^^^^^^^^^\n",
      "      File \"/Users/cherie/Desktop/ML_course/labs/ex04/template/build_polynomial.py\", line 27, in build_poly\n",
      "        raise NotImplementedError\n",
      "    NotImplementedError\n",
      "**********************************************************************\n"
     ]
    }
   ],
   "source": [
    "# can lead to a numerical error if you use an older version than Python 3.9\n",
    "test(cross_validation)"
   ]
  },
  {
   "cell_type": "code",
   "execution_count": null,
   "metadata": {},
   "outputs": [],
   "source": [
    "from plots import cross_validation_visualization\n",
    "\n",
    "\n",
    "def cross_validation_demo(degree, k_fold, lambdas):\n",
    "    \"\"\"cross validation over regularisation parameter lambda.\n",
    "\n",
    "    Args:\n",
    "        degree: integer, degree of the polynomial expansion\n",
    "        k_fold: integer, the number of folds\n",
    "        lambdas: shape = (p, ) where p is the number of values of lambda to test\n",
    "    Returns:\n",
    "        best_lambda : scalar, value of the best lambda\n",
    "        best_rmse : scalar, the associated root mean squared error for the best lambda\n",
    "    \"\"\"\n",
    "\n",
    "    seed = 12\n",
    "    degree = degree\n",
    "    k_fold = k_fold\n",
    "    lambdas = lambdas\n",
    "    # split data in k fold\n",
    "    k_indices = build_k_indices(y, k_fold, seed)\n",
    "    # define lists to store the loss of training data and test data\n",
    "    rmse_tr = []\n",
    "    rmse_te = []\n",
    "    best_rmse = float('inf')\n",
    "    best_lambda = None\n",
    "\n",
    "    # cross-validation over lambdas\n",
    "    for lambda_ in lambdas:\n",
    "        rmse_tr_tmp = []\n",
    "        rmse_te_tmp = []\n",
    "        \n",
    "        # Perform cross-validation\n",
    "        for k in range(k_fold):\n",
    "            rmse_tr_k, rmse_te_k = cross_validation(y, x, k_indices, k, lambda_, degree)\n",
    "            rmse_tr_tmp.append(rmse_tr_k)\n",
    "            rmse_te_tmp.append(rmse_te_k)\n",
    "        \n",
    "        # Compute average RMSE for current lambda\n",
    "        avg_rmse_tr = np.mean(rmse_tr_tmp)\n",
    "        avg_rmse_te = np.mean(rmse_te_tmp)\n",
    "        \n",
    "        rmse_tr.append(avg_rmse_tr)\n",
    "        rmse_te.append(avg_rmse_te)\n",
    "        \n",
    "        # Track the best lambda\n",
    "        if avg_rmse_te < best_rmse:\n",
    "            best_rmse = avg_rmse_te\n",
    "            best_lambda = lambda_\n",
    "\n",
    "\n",
    "    cross_validation_visualization(lambdas, rmse_tr, rmse_te)\n",
    "    print(\n",
    "        \"For polynomial expansion up to degree %.f, the choice of lambda which leads to the best test rmse is %.5f with a test rmse of %.3f\"\n",
    "        % (degree, best_lambda, best_rmse)\n",
    "    )\n",
    "    return best_lambda, best_rmse\n",
    "\n",
    "\n",
    "best_lambda, best_rmse = cross_validation_demo(7, 4, np.logspace(-4, 0, 30))"
   ]
  },
  {
   "cell_type": "markdown",
   "metadata": {},
   "source": [
    "Your output should look like this for seed = 12, degree = 7 and k_fold = 4:\n",
    "\n",
    "![alt text](cross_validation2.png)"
   ]
  },
  {
   "cell_type": "markdown",
   "metadata": {},
   "source": [
    "You can play around with the number of folds and the degree of your polynomial expansion."
   ]
  },
  {
   "cell_type": "code",
   "execution_count": null,
   "metadata": {},
   "outputs": [],
   "source": [
    "best_lambda, best_rmse = cross_validation_demo(10, 4, np.logspace(-10, -2, 30))"
   ]
  },
  {
   "cell_type": "markdown",
   "metadata": {},
   "source": [
    "In the previous task we did a grid search over several values of $\\lambda$ for a fixed degree. We can also perform a grid search amongst $\\lambda$ and degrees simultaneously:"
   ]
  },
  {
   "cell_type": "code",
   "execution_count": null,
   "metadata": {},
   "outputs": [],
   "source": [
    "def best_degree_selection(degrees, k_fold, lambdas, seed=1):\n",
    "    \"\"\"cross validation over regularisation parameter lambda and degree.\n",
    "\n",
    "    Args:\n",
    "        degrees: shape = (d,), where d is the number of degrees to test\n",
    "        k_fold: integer, the number of folds\n",
    "        lambdas: shape = (p, ) where p is the number of values of lambda to test\n",
    "    Returns:\n",
    "        best_degree : integer, value of the best degree\n",
    "        best_lambda : scalar, value of the best lambda\n",
    "        best_rmse : value of the rmse for the couple (best_degree, best_lambda)\n",
    "\n",
    "    >>> best_degree_selection(np.arange(2,11), 4, np.logspace(-4, 0, 30))\n",
    "    (7, 0.004520353656360241, 0.28957280566456634)\n",
    "    \"\"\"\n",
    "\n",
    "    # split data in k fold\n",
    "    k_indices = build_k_indices(y, k_fold, seed)\n",
    "\n",
    "    best_rmse = float('inf')\n",
    "    best_lambda = None\n",
    "    best_degree = None\n",
    "\n",
    "    # Loop over all degrees\n",
    "    for degree in degrees:\n",
    "        rmse_tr = []\n",
    "        rmse_te = []\n",
    "\n",
    "        # Loop over all lambdas for the current degree\n",
    "        for lambda_ in lambdas:\n",
    "            rmse_tr_tmp = []\n",
    "            rmse_te_tmp = []\n",
    "            \n",
    "            # Perform k-fold cross-validation for each lambda and degree\n",
    "            for k in range(k_fold):\n",
    "                rmse_tr_k, rmse_te_k = cross_validation(y, x, k_indices, k, lambda_, degree)\n",
    "                rmse_tr_tmp.append(rmse_tr_k)\n",
    "                rmse_te_tmp.append(rmse_te_k)\n",
    "\n",
    "            # Compute the average RMSE for this degree and lambda\n",
    "            avg_rmse_tr = np.mean(rmse_tr_tmp)\n",
    "            avg_rmse_te = np.mean(rmse_te_tmp)\n",
    "            \n",
    "            rmse_tr.append(avg_rmse_tr)\n",
    "            rmse_te.append(avg_rmse_te)\n",
    "\n",
    "            # Track the best lambda and degree based on test RMSE\n",
    "            if avg_rmse_te < best_rmse:\n",
    "                best_rmse = avg_rmse_te\n",
    "                best_lambda = lambda_\n",
    "                best_degree = degree\n",
    "\n",
    "    return best_degree, best_lambda, best_rmse"
   ]
  },
  {
   "cell_type": "code",
   "execution_count": null,
   "metadata": {},
   "outputs": [],
   "source": [
    "# can lead to a numerical error if you use an older version than Python 3.9\n",
    "test(best_degree_selection)\n",
    "\n",
    "best_degree, best_lambda, best_rmse = best_degree_selection(\n",
    "    np.arange(2, 11), 4, np.logspace(-4, 0, 30)\n",
    ")\n",
    "print(\n",
    "    \"The best rmse of %.3f is obtained for a degree of %.f and a lambda of %.5f.\"\n",
    "    % (best_rmse, best_degree, best_lambda)\n",
    ")"
   ]
  },
  {
   "cell_type": "markdown",
   "metadata": {},
   "source": [
    "## Bias-Variance Decomposition"
   ]
  },
  {
   "cell_type": "code",
   "execution_count": null,
   "metadata": {},
   "outputs": [],
   "source": [
    "# true function we want to learn\n",
    "def f_star(x):\n",
    "    return x**3 - x**2 + 0.5\n",
    "\n",
    "\n",
    "# plotting function for f_star\n",
    "def plot_fstar(ax):\n",
    "    xvals = np.arange(-1, 1, 0.01)\n",
    "    ax.plot(xvals, f_star(xvals), linestyle=\"--\", color=\"k\", label=\"f_star\")\n",
    "    ax.set_ylim(-2, 2)"
   ]
  },
  {
   "cell_type": "code",
   "execution_count": null,
   "metadata": {},
   "outputs": [],
   "source": [
    "# helper plot function\n",
    "def plot_poly(x, y, weights, degree, ax, alpha=0.3):\n",
    "    xvals = np.arange(-1, 1, 0.01)\n",
    "    tx = build_poly(xvals, degree)\n",
    "    f = tx.dot(weights)\n",
    "    ax.plot(xvals, f, color=\"orange\", alpha=alpha)\n",
    "    ax.scatter(x, y, color=\"b\", alpha=alpha, s=10)\n",
    "    ax.set_xlabel(\"x\")\n",
    "    ax.set_ylabel(\"y\")\n",
    "    ax.set_title(\"Polynomial degree \" + str(degree))\n",
    "    ax.set_ylim(-1, 2)\n",
    "\n",
    "\n",
    "# helper plot function\n",
    "def plot_f(weights, degree, ax, label=None):\n",
    "    xvals = np.arange(-1, 1, 0.01)\n",
    "    tx = build_poly(xvals, degree)\n",
    "    f = tx.dot(weights)\n",
    "    ax.plot(xvals, f, color=\"black\", alpha=1, label=label)\n",
    "    ax.set_ylim(-1, 2)"
   ]
  },
  {
   "cell_type": "markdown",
   "metadata": {},
   "source": [
    "Implement the following function: for 15 random datapoints, it finds the optimal fit (using the least square formula, with no regularisation λ) for a polynomial expansion of degree 1, 3 and 6."
   ]
  },
  {
   "cell_type": "code",
   "execution_count": null,
   "metadata": {},
   "outputs": [],
   "source": [
    "rom least_squares import least_squares\n",
    "\n",
    "\n",
    "def bias_variance_one_seed(sigma, degrees, seed):\n",
    "    \"\"\"One run of the optimal fit for 15 random points and different polynomial expansion degrees.\n",
    "\n",
    "    Args:\n",
    "        sigma: scalar, noise variance\n",
    "        degrees: shape = (3,), 3 different degrees to consider\n",
    "        seed: integer, random see\n",
    "    Returns:\n",
    "    \"\"\"\n",
    "\n",
    "    # we will generate 15 random datapoints from the [-1, 1] uniform distribuion\n",
    "    num_data = 15\n",
    "    np.random.seed(seed)  # set random seed for reproducibility\n",
    "    xs = np.random.uniform(-1, 1, num_data)\n",
    "    # the outputs will be f_star(x) + some random gaussian noise of variance sigma**2\n",
    "    ys = f_star(xs) + sigma * np.random.randn(num_data)\n",
    "\n",
    "    fig, axs = plt.subplots(1, len(degrees), figsize=(20, 5))\n",
    "    for index_degree, degree in enumerate(degrees):\n",
    "        # Create polynomial features for the current degree\n",
    "        x_poly = polynomial_features(xs, degree)\n",
    "\n",
    "        # Fit the model using least squares\n",
    "        weights, _ = least_squares(ys, x_poly)\n",
    "\n",
    "        # Generate the prediction on a dense grid for smoother plotting\n",
    "        x_dense = np.linspace(-1, 1, 100)\n",
    "        x_poly_dense = polynomial_features(x_dense, degree)\n",
    "        y_pred = x_poly_dense @ weights\n",
    "\n",
    "        # Plot the true function, the data points, and the fitted polynomial\n",
    "        axs[index_degree].scatter(xs, ys, color='b', label=\"Data points\")\n",
    "        axs[index_degree].plot(x_dense, y_pred, label=f\"Degree {degree} fit\")\n",
    "        axs[index_degree].set_title(f\"Degree {degree} fit\")\n",
    "\n",
    "        plot_fstar(axs[index_degree])\n",
    "        axs[index_degree].legend()\n",
    "    plt.show()\n",
    "\n",
    "\n",
    "bias_variance_one_seed(0.1, [1, 3, 6], seed=2)"
   ]
  },
  {
   "cell_type": "markdown",
   "metadata": {},
   "source": [
    "Your output should ressemble (for seed = 2) to this: \n",
    "![alt text](bias_variance_one_run.png)"
   ]
  },
  {
   "cell_type": "markdown",
   "metadata": {},
   "source": [
    "Now to illustrate the bias variance tradeoff we will repeat many times the previous experiment but using a different random seed each time. We also plot (in plain black) the mean of all the orange functions obtained."
   ]
  },
  {
   "cell_type": "code",
   "execution_count": null,
   "metadata": {},
   "outputs": [],
   "source": [
    "def bias_variance_demo(sigma, degrees):\n",
    "    \"\"\"Illustration of the bias-variance tradeoff.\n",
    "\n",
    "    Args:\n",
    "        sigma: scalar, noise variance\n",
    "        degrees: shape = (3,), 3 different degrees to consider\n",
    "    Returns:\n",
    "    \"\"\"\n",
    "    # define parameters\n",
    "    seeds = range(400)  # number of runs\n",
    "    num_data = 15\n",
    "\n",
    "    fig, axs = plt.subplots(1, len(degrees), figsize=(20, 5))\n",
    "    for index_degree, degree in enumerate(degrees):\n",
    "          # Run the experiment over multiple seeds\n",
    "        for seed in seeds:\n",
    "            np.random.seed(seed)\n",
    "            xs = np.random.uniform(-1, 1, num_data)\n",
    "            ys = f_star(xs) + sigma * np.random.randn(num_data)\n",
    "\n",
    "            # Create polynomial features and fit the model\n",
    "            x_poly = build_poly(xs, degree)\n",
    "            weights, _ = least_squares(ys, x_poly)\n",
    "\n",
    "            # Generate predictions on a dense grid\n",
    "            x_dense = np.linspace(-1, 1, 100)\n",
    "            x_poly_dense = build_poly(x_dense, degree)\n",
    "            y_pred = x_poly_dense @ weights\n",
    "\n",
    "\n",
    "        plot_fstar(axs[index_degree])\n",
    "        axs[index_degree].legend()\n",
    "    plt.show()\n",
    "\n",
    "\n",
    "bias_variance_demo(0.1, [1, 3, 6])"
   ]
  },
  {
   "cell_type": "markdown",
   "metadata": {},
   "source": [
    "Your output should ressemble to this: \n",
    "![alt text](bias_variance.png)"
   ]
  }
 ],
 "metadata": {
  "kernelspec": {
   "display_name": "Python 3 (ipykernel)",
   "language": "python",
   "name": "python3"
  },
  "language_info": {
   "codemirror_mode": {
    "name": "ipython",
    "version": 3
   },
   "file_extension": ".py",
   "mimetype": "text/x-python",
   "name": "python",
   "nbconvert_exporter": "python",
   "pygments_lexer": "ipython3",
   "version": "3.12.4"
  }
 },
 "nbformat": 4,
 "nbformat_minor": 4
}
